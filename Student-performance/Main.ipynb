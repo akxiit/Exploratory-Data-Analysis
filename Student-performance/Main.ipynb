{
 "cells": [
  {
   "cell_type": "code",
   "execution_count": 1,
   "id": "4fdd706b",
   "metadata": {},
   "outputs": [],
   "source": [
    "import pandas as pd\n",
    "import numpy as np"
   ]
  },
  {
   "cell_type": "code",
   "execution_count": 2,
   "id": "e26e5c3d",
   "metadata": {},
   "outputs": [],
   "source": [
    "df = pd.read_csv('dataset.csv')"
   ]
  },
  {
   "cell_type": "code",
   "execution_count": 3,
   "id": "375e66a1",
   "metadata": {},
   "outputs": [
    {
     "data": {
      "text/html": [
       "<div>\n",
       "<style scoped>\n",
       "    .dataframe tbody tr th:only-of-type {\n",
       "        vertical-align: middle;\n",
       "    }\n",
       "\n",
       "    .dataframe tbody tr th {\n",
       "        vertical-align: top;\n",
       "    }\n",
       "\n",
       "    .dataframe thead th {\n",
       "        text-align: right;\n",
       "    }\n",
       "</style>\n",
       "<table border=\"1\" class=\"dataframe\">\n",
       "  <thead>\n",
       "    <tr style=\"text-align: right;\">\n",
       "      <th></th>\n",
       "      <th>student_id</th>\n",
       "      <th>age</th>\n",
       "      <th>gender</th>\n",
       "      <th>major</th>\n",
       "      <th>study_hours_per_day</th>\n",
       "      <th>social_media_hours</th>\n",
       "      <th>netflix_hours</th>\n",
       "      <th>part_time_job</th>\n",
       "      <th>attendance_percentage</th>\n",
       "      <th>sleep_hours</th>\n",
       "      <th>...</th>\n",
       "      <th>screen_time</th>\n",
       "      <th>study_environment</th>\n",
       "      <th>access_to_tutoring</th>\n",
       "      <th>family_income_range</th>\n",
       "      <th>parental_support_level</th>\n",
       "      <th>motivation_level</th>\n",
       "      <th>exam_anxiety_score</th>\n",
       "      <th>learning_style</th>\n",
       "      <th>time_management_score</th>\n",
       "      <th>exam_score</th>\n",
       "    </tr>\n",
       "  </thead>\n",
       "  <tbody>\n",
       "    <tr>\n",
       "      <th>0</th>\n",
       "      <td>100000</td>\n",
       "      <td>26</td>\n",
       "      <td>Male</td>\n",
       "      <td>Computer Science</td>\n",
       "      <td>7.645367</td>\n",
       "      <td>3.0</td>\n",
       "      <td>0.1</td>\n",
       "      <td>Yes</td>\n",
       "      <td>70.3</td>\n",
       "      <td>6.2</td>\n",
       "      <td>...</td>\n",
       "      <td>10.9</td>\n",
       "      <td>Co-Learning Group</td>\n",
       "      <td>Yes</td>\n",
       "      <td>High</td>\n",
       "      <td>9</td>\n",
       "      <td>7</td>\n",
       "      <td>8</td>\n",
       "      <td>Reading</td>\n",
       "      <td>3.0</td>\n",
       "      <td>100</td>\n",
       "    </tr>\n",
       "    <tr>\n",
       "      <th>1</th>\n",
       "      <td>100001</td>\n",
       "      <td>28</td>\n",
       "      <td>Male</td>\n",
       "      <td>Arts</td>\n",
       "      <td>5.700000</td>\n",
       "      <td>0.5</td>\n",
       "      <td>0.4</td>\n",
       "      <td>No</td>\n",
       "      <td>88.4</td>\n",
       "      <td>7.2</td>\n",
       "      <td>...</td>\n",
       "      <td>8.3</td>\n",
       "      <td>Co-Learning Group</td>\n",
       "      <td>Yes</td>\n",
       "      <td>Low</td>\n",
       "      <td>7</td>\n",
       "      <td>2</td>\n",
       "      <td>10</td>\n",
       "      <td>Reading</td>\n",
       "      <td>6.0</td>\n",
       "      <td>99</td>\n",
       "    </tr>\n",
       "    <tr>\n",
       "      <th>2</th>\n",
       "      <td>100002</td>\n",
       "      <td>17</td>\n",
       "      <td>Male</td>\n",
       "      <td>Arts</td>\n",
       "      <td>2.400000</td>\n",
       "      <td>4.2</td>\n",
       "      <td>0.7</td>\n",
       "      <td>No</td>\n",
       "      <td>82.1</td>\n",
       "      <td>9.2</td>\n",
       "      <td>...</td>\n",
       "      <td>8.0</td>\n",
       "      <td>Library</td>\n",
       "      <td>Yes</td>\n",
       "      <td>High</td>\n",
       "      <td>3</td>\n",
       "      <td>9</td>\n",
       "      <td>6</td>\n",
       "      <td>Kinesthetic</td>\n",
       "      <td>7.6</td>\n",
       "      <td>98</td>\n",
       "    </tr>\n",
       "    <tr>\n",
       "      <th>3</th>\n",
       "      <td>100003</td>\n",
       "      <td>27</td>\n",
       "      <td>Other</td>\n",
       "      <td>Psychology</td>\n",
       "      <td>3.400000</td>\n",
       "      <td>4.6</td>\n",
       "      <td>2.3</td>\n",
       "      <td>Yes</td>\n",
       "      <td>79.3</td>\n",
       "      <td>4.2</td>\n",
       "      <td>...</td>\n",
       "      <td>11.7</td>\n",
       "      <td>Co-Learning Group</td>\n",
       "      <td>Yes</td>\n",
       "      <td>Low</td>\n",
       "      <td>5</td>\n",
       "      <td>3</td>\n",
       "      <td>10</td>\n",
       "      <td>Reading</td>\n",
       "      <td>3.2</td>\n",
       "      <td>100</td>\n",
       "    </tr>\n",
       "    <tr>\n",
       "      <th>4</th>\n",
       "      <td>100004</td>\n",
       "      <td>25</td>\n",
       "      <td>Female</td>\n",
       "      <td>Business</td>\n",
       "      <td>4.700000</td>\n",
       "      <td>0.8</td>\n",
       "      <td>2.7</td>\n",
       "      <td>Yes</td>\n",
       "      <td>62.9</td>\n",
       "      <td>6.5</td>\n",
       "      <td>...</td>\n",
       "      <td>9.4</td>\n",
       "      <td>Quiet Room</td>\n",
       "      <td>Yes</td>\n",
       "      <td>Medium</td>\n",
       "      <td>9</td>\n",
       "      <td>1</td>\n",
       "      <td>10</td>\n",
       "      <td>Reading</td>\n",
       "      <td>7.1</td>\n",
       "      <td>98</td>\n",
       "    </tr>\n",
       "  </tbody>\n",
       "</table>\n",
       "<p>5 rows × 31 columns</p>\n",
       "</div>"
      ],
      "text/plain": [
       "   student_id  age  gender             major  study_hours_per_day  \\\n",
       "0      100000   26    Male  Computer Science             7.645367   \n",
       "1      100001   28    Male              Arts             5.700000   \n",
       "2      100002   17    Male              Arts             2.400000   \n",
       "3      100003   27   Other        Psychology             3.400000   \n",
       "4      100004   25  Female          Business             4.700000   \n",
       "\n",
       "   social_media_hours  netflix_hours part_time_job  attendance_percentage  \\\n",
       "0                 3.0            0.1           Yes                   70.3   \n",
       "1                 0.5            0.4            No                   88.4   \n",
       "2                 4.2            0.7            No                   82.1   \n",
       "3                 4.6            2.3           Yes                   79.3   \n",
       "4                 0.8            2.7           Yes                   62.9   \n",
       "\n",
       "   sleep_hours  ... screen_time  study_environment access_to_tutoring  \\\n",
       "0          6.2  ...        10.9  Co-Learning Group                Yes   \n",
       "1          7.2  ...         8.3  Co-Learning Group                Yes   \n",
       "2          9.2  ...         8.0            Library                Yes   \n",
       "3          4.2  ...        11.7  Co-Learning Group                Yes   \n",
       "4          6.5  ...         9.4         Quiet Room                Yes   \n",
       "\n",
       "  family_income_range  parental_support_level motivation_level  \\\n",
       "0                High                       9                7   \n",
       "1                 Low                       7                2   \n",
       "2                High                       3                9   \n",
       "3                 Low                       5                3   \n",
       "4              Medium                       9                1   \n",
       "\n",
       "   exam_anxiety_score  learning_style  time_management_score exam_score  \n",
       "0                   8         Reading                    3.0        100  \n",
       "1                  10         Reading                    6.0         99  \n",
       "2                   6     Kinesthetic                    7.6         98  \n",
       "3                  10         Reading                    3.2        100  \n",
       "4                  10         Reading                    7.1         98  \n",
       "\n",
       "[5 rows x 31 columns]"
      ]
     },
     "execution_count": 3,
     "metadata": {},
     "output_type": "execute_result"
    }
   ],
   "source": [
    "df.head()"
   ]
  },
  {
   "cell_type": "code",
   "execution_count": 6,
   "id": "19e4ebf2",
   "metadata": {},
   "outputs": [
    {
     "data": {
      "text/plain": [
       "student_id                       0\n",
       "age                              0\n",
       "gender                           0\n",
       "major                            0\n",
       "study_hours_per_day              0\n",
       "social_media_hours               0\n",
       "netflix_hours                    0\n",
       "part_time_job                    0\n",
       "attendance_percentage            0\n",
       "sleep_hours                      0\n",
       "diet_quality                     0\n",
       "exercise_frequency               0\n",
       "parental_education_level         0\n",
       "internet_quality                 0\n",
       "mental_health_rating             0\n",
       "extracurricular_participation    0\n",
       "previous_gpa                     0\n",
       "semester                         0\n",
       "stress_level                     0\n",
       "dropout_risk                     0\n",
       "social_activity                  0\n",
       "screen_time                      0\n",
       "study_environment                0\n",
       "access_to_tutoring               0\n",
       "family_income_range              0\n",
       "parental_support_level           0\n",
       "motivation_level                 0\n",
       "exam_anxiety_score               0\n",
       "learning_style                   0\n",
       "time_management_score            0\n",
       "exam_score                       0\n",
       "dtype: int64"
      ]
     },
     "execution_count": 6,
     "metadata": {},
     "output_type": "execute_result"
    }
   ],
   "source": [
    "df.isna().sum()"
   ]
  },
  {
   "cell_type": "code",
   "execution_count": 14,
   "id": "c37e88ee",
   "metadata": {},
   "outputs": [
    {
     "data": {
      "text/plain": [
       "(80000, 31)"
      ]
     },
     "execution_count": 14,
     "metadata": {},
     "output_type": "execute_result"
    }
   ],
   "source": [
    "df.shape"
   ]
  },
  {
   "cell_type": "code",
   "execution_count": 7,
   "id": "45a0ce9f",
   "metadata": {},
   "outputs": [
    {
     "name": "stdout",
     "output_type": "stream",
     "text": [
      "<class 'pandas.core.frame.DataFrame'>\n",
      "RangeIndex: 80000 entries, 0 to 79999\n",
      "Data columns (total 31 columns):\n",
      " #   Column                         Non-Null Count  Dtype  \n",
      "---  ------                         --------------  -----  \n",
      " 0   student_id                     80000 non-null  int64  \n",
      " 1   age                            80000 non-null  int64  \n",
      " 2   gender                         80000 non-null  object \n",
      " 3   major                          80000 non-null  object \n",
      " 4   study_hours_per_day            80000 non-null  float64\n",
      " 5   social_media_hours             80000 non-null  float64\n",
      " 6   netflix_hours                  80000 non-null  float64\n",
      " 7   part_time_job                  80000 non-null  object \n",
      " 8   attendance_percentage          80000 non-null  float64\n",
      " 9   sleep_hours                    80000 non-null  float64\n",
      " 10  diet_quality                   80000 non-null  object \n",
      " 11  exercise_frequency             80000 non-null  int64  \n",
      " 12  parental_education_level       80000 non-null  object \n",
      " 13  internet_quality               80000 non-null  object \n",
      " 14  mental_health_rating           80000 non-null  float64\n",
      " 15  extracurricular_participation  80000 non-null  object \n",
      " 16  previous_gpa                   80000 non-null  float64\n",
      " 17  semester                       80000 non-null  int64  \n",
      " 18  stress_level                   80000 non-null  float64\n",
      " 19  dropout_risk                   80000 non-null  object \n",
      " 20  social_activity                80000 non-null  int64  \n",
      " 21  screen_time                    80000 non-null  float64\n",
      " 22  study_environment              80000 non-null  object \n",
      " 23  access_to_tutoring             80000 non-null  object \n",
      " 24  family_income_range            80000 non-null  object \n",
      " 25  parental_support_level         80000 non-null  int64  \n",
      " 26  motivation_level               80000 non-null  int64  \n",
      " 27  exam_anxiety_score             80000 non-null  int64  \n",
      " 28  learning_style                 80000 non-null  object \n",
      " 29  time_management_score          80000 non-null  float64\n",
      " 30  exam_score                     80000 non-null  int64  \n",
      "dtypes: float64(10), int64(9), object(12)\n",
      "memory usage: 18.9+ MB\n"
     ]
    }
   ],
   "source": [
    "df.info()"
   ]
  },
  {
   "cell_type": "code",
   "execution_count": 9,
   "id": "17c53b42",
   "metadata": {},
   "outputs": [],
   "source": [
    "import matplotlib.pyplot as plt \n",
    "import seaborn as sns"
   ]
  },
  {
   "cell_type": "code",
   "execution_count": 17,
   "id": "03094ac4",
   "metadata": {},
   "outputs": [
    {
     "data": {
      "text/plain": [
       "<Axes: xlabel='count', ylabel='gender'>"
      ]
     },
     "execution_count": 17,
     "metadata": {},
     "output_type": "execute_result"
    },
    {
     "data": {
      "image/png": "[encoded data removed]",
      "text/plain": [
       "<Figure size 640x480 with 1 Axes>"
      ]
     },
     "metadata": {},
     "output_type": "display_data"
    }
   ],
   "source": [
    "sns.countplot(df['gender'])"
   ]
  },
  {
   "cell_type": "code",
   "execution_count": 18,
   "id": "d292d891",
   "metadata": {},
   "outputs": [
    {
     "data": {
      "text/plain": [
       "gender\n",
       "Female    26705\n",
       "Male      26698\n",
       "Other     26597\n",
       "Name: count, dtype: int64"
      ]
     },
     "execution_count": 18,
     "metadata": {},
     "output_type": "execute_result"
    }
   ],
   "source": [
    "df['gender'].value_counts()"
   ]
  },
  {
   "cell_type": "code",
   "execution_count": null,
   "id": "566b510b",
   "metadata": {},
   "outputs": [],
   "source": [
    "df['']"
   ]
  }
 ],
 "metadata": {
  "kernelspec": {
   "display_name": "Python 3",
   "language": "python",
   "name": "python3"
  },
  "language_info": {
   "codemirror_mode": {
    "name": "ipython",
    "version": 3
   },
   "file_extension": ".py",
   "mimetype": "text/x-python",
   "name": "python",
   "nbconvert_exporter": "python",
   "pygments_lexer": "ipython3",
   "version": "3.13.0"
  }
 },
 "nbformat": 4,
 "nbformat_minor": 5
}
