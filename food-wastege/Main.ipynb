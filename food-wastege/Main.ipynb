{
 "cells": [
  {
   "cell_type": "code",
   "execution_count": 1,
   "metadata": {},
   "outputs": [],
   "source": [
    "import pandas as pd\n",
    "import numpy as np"
   ]
  },
  {
   "cell_type": "code",
   "execution_count": 2,
   "metadata": {},
   "outputs": [],
   "source": [
    "df = pd.read_csv('data.csv')"
   ]
  },
  {
   "cell_type": "code",
   "execution_count": 4,
   "metadata": {},
   "outputs": [
    {
     "data": {
      "text/html": [
       "<div>\n",
       "<style scoped>\n",
       "    .dataframe tbody tr th:only-of-type {\n",
       "        vertical-align: middle;\n",
       "    }\n",
       "\n",
       "    .dataframe tbody tr th {\n",
       "        vertical-align: top;\n",
       "    }\n",
       "\n",
       "    .dataframe thead th {\n",
       "        text-align: right;\n",
       "    }\n",
       "</style>\n",
       "<table border=\"1\" class=\"dataframe\">\n",
       "  <thead>\n",
       "    <tr style=\"text-align: right;\">\n",
       "      <th></th>\n",
       "      <th>Country</th>\n",
       "      <th>Year</th>\n",
       "      <th>Food Category</th>\n",
       "      <th>Total Waste (Tons)</th>\n",
       "      <th>Economic Loss (Million $)</th>\n",
       "      <th>Avg Waste per Capita (Kg)</th>\n",
       "      <th>Population (Million)</th>\n",
       "      <th>Household Waste (%)</th>\n",
       "    </tr>\n",
       "  </thead>\n",
       "  <tbody>\n",
       "    <tr>\n",
       "      <th>0</th>\n",
       "      <td>Australia</td>\n",
       "      <td>2019</td>\n",
       "      <td>Fruits &amp; Vegetables</td>\n",
       "      <td>19268.63</td>\n",
       "      <td>18686.68</td>\n",
       "      <td>72.69</td>\n",
       "      <td>87.59</td>\n",
       "      <td>53.64</td>\n",
       "    </tr>\n",
       "    <tr>\n",
       "      <th>1</th>\n",
       "      <td>Indonesia</td>\n",
       "      <td>2019</td>\n",
       "      <td>Prepared Food</td>\n",
       "      <td>3916.97</td>\n",
       "      <td>4394.48</td>\n",
       "      <td>192.52</td>\n",
       "      <td>1153.99</td>\n",
       "      <td>30.61</td>\n",
       "    </tr>\n",
       "    <tr>\n",
       "      <th>2</th>\n",
       "      <td>Germany</td>\n",
       "      <td>2022</td>\n",
       "      <td>Dairy Products</td>\n",
       "      <td>9700.16</td>\n",
       "      <td>8909.16</td>\n",
       "      <td>166.94</td>\n",
       "      <td>1006.11</td>\n",
       "      <td>48.08</td>\n",
       "    </tr>\n",
       "    <tr>\n",
       "      <th>3</th>\n",
       "      <td>France</td>\n",
       "      <td>2023</td>\n",
       "      <td>Fruits &amp; Vegetables</td>\n",
       "      <td>46299.69</td>\n",
       "      <td>40551.22</td>\n",
       "      <td>120.19</td>\n",
       "      <td>953.05</td>\n",
       "      <td>31.91</td>\n",
       "    </tr>\n",
       "    <tr>\n",
       "      <th>4</th>\n",
       "      <td>France</td>\n",
       "      <td>2023</td>\n",
       "      <td>Beverages</td>\n",
       "      <td>33096.57</td>\n",
       "      <td>36980.82</td>\n",
       "      <td>104.74</td>\n",
       "      <td>1105.47</td>\n",
       "      <td>36.06</td>\n",
       "    </tr>\n",
       "  </tbody>\n",
       "</table>\n",
       "</div>"
      ],
      "text/plain": [
       "     Country  Year        Food Category  Total Waste (Tons)  \\\n",
       "0  Australia  2019  Fruits & Vegetables            19268.63   \n",
       "1  Indonesia  2019        Prepared Food             3916.97   \n",
       "2    Germany  2022       Dairy Products             9700.16   \n",
       "3     France  2023  Fruits & Vegetables            46299.69   \n",
       "4     France  2023            Beverages            33096.57   \n",
       "\n",
       "   Economic Loss (Million $)  Avg Waste per Capita (Kg)  Population (Million)  \\\n",
       "0                   18686.68                      72.69                 87.59   \n",
       "1                    4394.48                     192.52               1153.99   \n",
       "2                    8909.16                     166.94               1006.11   \n",
       "3                   40551.22                     120.19                953.05   \n",
       "4                   36980.82                     104.74               1105.47   \n",
       "\n",
       "   Household Waste (%)  \n",
       "0                53.64  \n",
       "1                30.61  \n",
       "2                48.08  \n",
       "3                31.91  \n",
       "4                36.06  "
      ]
     },
     "execution_count": 4,
     "metadata": {},
     "output_type": "execute_result"
    }
   ],
   "source": [
    "df.head()"
   ]
  },
  {
   "cell_type": "code",
   "execution_count": 7,
   "metadata": {},
   "outputs": [
    {
     "data": {
      "text/plain": [
       "(5000, 8)"
      ]
     },
     "execution_count": 7,
     "metadata": {},
     "output_type": "execute_result"
    }
   ],
   "source": [
    "df.shape"
   ]
  },
  {
   "cell_type": "code",
   "execution_count": 9,
   "metadata": {},
   "outputs": [
    {
     "name": "stdout",
     "output_type": "stream",
     "text": [
      "<class 'pandas.core.frame.DataFrame'>\n",
      "RangeIndex: 5000 entries, 0 to 4999\n",
      "Data columns (total 8 columns):\n",
      " #   Column                     Non-Null Count  Dtype  \n",
      "---  ------                     --------------  -----  \n",
      " 0   Country                    5000 non-null   object \n",
      " 1   Year                       5000 non-null   int64  \n",
      " 2   Food Category              5000 non-null   object \n",
      " 3   Total Waste (Tons)         5000 non-null   float64\n",
      " 4   Economic Loss (Million $)  5000 non-null   float64\n",
      " 5   Avg Waste per Capita (Kg)  5000 non-null   float64\n",
      " 6   Population (Million)       5000 non-null   float64\n",
      " 7   Household Waste (%)        5000 non-null   float64\n",
      "dtypes: float64(5), int64(1), object(2)\n",
      "memory usage: 312.6+ KB\n"
     ]
    }
   ],
   "source": [
    "df.info()"
   ]
  },
  {
   "cell_type": "code",
   "execution_count": 11,
   "metadata": {},
   "outputs": [
    {
     "data": {
      "text/plain": [
       "Country\n",
       "Germany         287\n",
       "Spain           274\n",
       "China           262\n",
       "Brazil          258\n",
       "India           257\n",
       "USA             257\n",
       "Turkey          256\n",
       "Canada          254\n",
       "Italy           253\n",
       "Mexico          251\n",
       "South Africa    245\n",
       "Indonesia       244\n",
       "UK              242\n",
       "South Korea     241\n",
       "Japan           240\n",
       "France          239\n",
       "Saudi Arabia    239\n",
       "Argentina       238\n",
       "Russia          237\n",
       "Australia       226\n",
       "Name: count, dtype: int64"
      ]
     },
     "execution_count": 11,
     "metadata": {},
     "output_type": "execute_result"
    }
   ],
   "source": [
    "df['Country'].value_counts()"
   ]
  },
  {
   "cell_type": "code",
   "execution_count": 10,
   "metadata": {},
   "outputs": [
    {
     "data": {
      "text/plain": [
       "Food Category\n",
       "Prepared Food          711\n",
       "Beverages              639\n",
       "Bakery Items           630\n",
       "Fruits & Vegetables    620\n",
       "Dairy Products         616\n",
       "Meat & Seafood         605\n",
       "Frozen Food            596\n",
       "Grains & Cereals       583\n",
       "Name: count, dtype: int64"
      ]
     },
     "execution_count": 10,
     "metadata": {},
     "output_type": "execute_result"
    }
   ],
   "source": [
    "df['Food Category'].value_counts()"
   ]
  },
  {
   "cell_type": "code",
   "execution_count": null,
   "metadata": {},
   "outputs": [],
   "source": [
    "from sklearn.preprocessing import OneHotEncoder\n",
    "en = OneHotEncoder(sparse_output=False)"
   ]
  },
  {
   "cell_type": "code",
   "execution_count": 14,
   "metadata": {},
   "outputs": [
    {
     "data": {
      "text/plain": [
       "array([[0., 1., 0., ..., 0., 0., 0.],\n",
       "       [0., 0., 0., ..., 0., 0., 1.],\n",
       "       [0., 0., 0., ..., 0., 0., 0.],\n",
       "       ...,\n",
       "       [0., 0., 0., ..., 0., 1., 0.],\n",
       "       [0., 1., 0., ..., 0., 0., 0.],\n",
       "       [0., 0., 0., ..., 0., 0., 0.]], shape=(5000, 28))"
      ]
     },
     "execution_count": 14,
     "metadata": {},
     "output_type": "execute_result"
    }
   ],
   "source": [
    "en.fit_transform(df[['Country', 'Food Category']])"
   ]
  },
  {
   "cell_type": "code",
   "execution_count": 21,
   "metadata": {},
   "outputs": [
    {
     "data": {
      "text/plain": [
       "array(['Country_Argentina', 'Country_Australia', 'Country_Brazil',\n",
       "       'Country_Canada', 'Country_China', 'Country_France',\n",
       "       'Country_Germany', 'Country_India', 'Country_Indonesia',\n",
       "       'Country_Italy', 'Country_Japan', 'Country_Mexico',\n",
       "       'Country_Russia', 'Country_Saudi Arabia', 'Country_South Africa',\n",
       "       'Country_South Korea', 'Country_Spain', 'Country_Turkey',\n",
       "       'Country_UK', 'Country_USA', 'Food Category_Bakery Items',\n",
       "       'Food Category_Beverages', 'Food Category_Dairy Products',\n",
       "       'Food Category_Frozen Food', 'Food Category_Fruits & Vegetables',\n",
       "       'Food Category_Grains & Cereals', 'Food Category_Meat & Seafood',\n",
       "       'Food Category_Prepared Food'], dtype=object)"
      ]
     },
     "execution_count": 21,
     "metadata": {},
     "output_type": "execute_result"
    }
   ],
   "source": [
    "en.get_feature_names_out(['Country', 'Food Category']) "
   ]
  },
  {
   "cell_type": "code",
   "execution_count": 25,
   "metadata": {},
   "outputs": [],
   "source": [
    "df2 = pd.DataFrame(en.fit_transform(df[['Country', 'Food Category']]), columns=en.get_feature_names_out(['Country', 'Food Category']))"
   ]
  },
  {
   "cell_type": "code",
   "execution_count": 27,
   "metadata": {},
   "outputs": [],
   "source": [
    "final_df = pd.concat([df, df2], axis=1)"
   ]
  },
  {
   "cell_type": "code",
   "execution_count": 28,
   "metadata": {},
   "outputs": [],
   "source": [
    "final_df.drop(['Country', 'Food Category'], axis=1, inplace=True)"
   ]
  },
  {
   "cell_type": "code",
   "execution_count": 30,
   "metadata": {},
   "outputs": [
    {
     "name": "stdout",
     "output_type": "stream",
     "text": [
      "<class 'pandas.core.frame.DataFrame'>\n",
      "RangeIndex: 5000 entries, 0 to 4999\n",
      "Data columns (total 34 columns):\n",
      " #   Column                             Non-Null Count  Dtype  \n",
      "---  ------                             --------------  -----  \n",
      " 0   Year                               5000 non-null   int64  \n",
      " 1   Total Waste (Tons)                 5000 non-null   float64\n",
      " 2   Economic Loss (Million $)          5000 non-null   float64\n",
      " 3   Avg Waste per Capita (Kg)          5000 non-null   float64\n",
      " 4   Population (Million)               5000 non-null   float64\n",
      " 5   Household Waste (%)                5000 non-null   float64\n",
      " 6   Country_Argentina                  5000 non-null   float64\n",
      " 7   Country_Australia                  5000 non-null   float64\n",
      " 8   Country_Brazil                     5000 non-null   float64\n",
      " 9   Country_Canada                     5000 non-null   float64\n",
      " 10  Country_China                      5000 non-null   float64\n",
      " 11  Country_France                     5000 non-null   float64\n",
      " 12  Country_Germany                    5000 non-null   float64\n",
      " 13  Country_India                      5000 non-null   float64\n",
      " 14  Country_Indonesia                  5000 non-null   float64\n",
      " 15  Country_Italy                      5000 non-null   float64\n",
      " 16  Country_Japan                      5000 non-null   float64\n",
      " 17  Country_Mexico                     5000 non-null   float64\n",
      " 18  Country_Russia                     5000 non-null   float64\n",
      " 19  Country_Saudi Arabia               5000 non-null   float64\n",
      " 20  Country_South Africa               5000 non-null   float64\n",
      " 21  Country_South Korea                5000 non-null   float64\n",
      " 22  Country_Spain                      5000 non-null   float64\n",
      " 23  Country_Turkey                     5000 non-null   float64\n",
      " 24  Country_UK                         5000 non-null   float64\n",
      " 25  Country_USA                        5000 non-null   float64\n",
      " 26  Food Category_Bakery Items         5000 non-null   float64\n",
      " 27  Food Category_Beverages            5000 non-null   float64\n",
      " 28  Food Category_Dairy Products       5000 non-null   float64\n",
      " 29  Food Category_Frozen Food          5000 non-null   float64\n",
      " 30  Food Category_Fruits & Vegetables  5000 non-null   float64\n",
      " 31  Food Category_Grains & Cereals     5000 non-null   float64\n",
      " 32  Food Category_Meat & Seafood       5000 non-null   float64\n",
      " 33  Food Category_Prepared Food        5000 non-null   float64\n",
      "dtypes: float64(33), int64(1)\n",
      "memory usage: 1.3 MB\n"
     ]
    }
   ],
   "source": [
    "final_df.info()"
   ]
  }
 ],
 "metadata": {
  "kernelspec": {
   "display_name": "Python 3",
   "language": "python",
   "name": "python3"
  },
  "language_info": {
   "codemirror_mode": {
    "name": "ipython",
    "version": 3
   },
   "file_extension": ".py",
   "mimetype": "text/x-python",
   "name": "python",
   "nbconvert_exporter": "python",
   "pygments_lexer": "ipython3",
   "version": "3.13.0"
  }
 },
 "nbformat": 4,
 "nbformat_minor": 2
}
