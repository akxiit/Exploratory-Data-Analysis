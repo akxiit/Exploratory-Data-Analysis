{
 "cells": [
  {
   "cell_type": "code",
   "execution_count": 1,
   "metadata": {},
   "outputs": [],
   "source": [
    "import pandas as pd\n",
    "import numpy as np\n",
    "import matplotlib.pyplot as plt\n",
    "import seaborn as sns"
   ]
  },
  {
   "cell_type": "code",
   "execution_count": 3,
   "metadata": {},
   "outputs": [],
   "source": [
    "df = pd.read_csv('smartphones_data.csv')"
   ]
  },
  {
   "cell_type": "code",
   "execution_count": 5,
   "metadata": {},
   "outputs": [
    {
     "data": {
      "text/html": [
       "<div>\n",
       "<style scoped>\n",
       "    .dataframe tbody tr th:only-of-type {\n",
       "        vertical-align: middle;\n",
       "    }\n",
       "\n",
       "    .dataframe tbody tr th {\n",
       "        vertical-align: top;\n",
       "    }\n",
       "\n",
       "    .dataframe thead th {\n",
       "        text-align: right;\n",
       "    }\n",
       "</style>\n",
       "<table border=\"1\" class=\"dataframe\">\n",
       "  <thead>\n",
       "    <tr style=\"text-align: right;\">\n",
       "      <th></th>\n",
       "      <th>brand_name</th>\n",
       "      <th>Name</th>\n",
       "      <th>Price</th>\n",
       "      <th>RAM</th>\n",
       "      <th>OS</th>\n",
       "      <th>storage</th>\n",
       "      <th>Battery_cap</th>\n",
       "      <th>has_fast_charging</th>\n",
       "      <th>has_fingerprints</th>\n",
       "      <th>has_nfc</th>\n",
       "      <th>has_5g</th>\n",
       "      <th>processor_brand</th>\n",
       "      <th>num_core</th>\n",
       "      <th>primery_rear_camera</th>\n",
       "      <th>Num_Rear_Cameras</th>\n",
       "      <th>primery_front_camera</th>\n",
       "      <th>num_front_camera</th>\n",
       "      <th>display_size(inch)</th>\n",
       "      <th>refresh_rate(hz)</th>\n",
       "      <th>display_types</th>\n",
       "    </tr>\n",
       "  </thead>\n",
       "  <tbody>\n",
       "    <tr>\n",
       "      <th>0</th>\n",
       "      <td>vivo</td>\n",
       "      <td>vivo v50</td>\n",
       "      <td>34999</td>\n",
       "      <td>8.0</td>\n",
       "      <td>android</td>\n",
       "      <td>128.0</td>\n",
       "      <td>6000</td>\n",
       "      <td>Yes</td>\n",
       "      <td>Yes</td>\n",
       "      <td>No</td>\n",
       "      <td>Yes</td>\n",
       "      <td>snapdragon</td>\n",
       "      <td>8.0</td>\n",
       "      <td>50.0</td>\n",
       "      <td>2</td>\n",
       "      <td>50.0</td>\n",
       "      <td>1</td>\n",
       "      <td>6.77</td>\n",
       "      <td>120.0</td>\n",
       "      <td>amoled display</td>\n",
       "    </tr>\n",
       "    <tr>\n",
       "      <th>1</th>\n",
       "      <td>realme</td>\n",
       "      <td>realme p3 pro</td>\n",
       "      <td>21999</td>\n",
       "      <td>8.0</td>\n",
       "      <td>android</td>\n",
       "      <td>128.0</td>\n",
       "      <td>6000</td>\n",
       "      <td>Yes</td>\n",
       "      <td>Yes</td>\n",
       "      <td>No</td>\n",
       "      <td>Yes</td>\n",
       "      <td>snapdragon</td>\n",
       "      <td>8.0</td>\n",
       "      <td>50.0</td>\n",
       "      <td>2</td>\n",
       "      <td>16.0</td>\n",
       "      <td>1</td>\n",
       "      <td>6.83</td>\n",
       "      <td>120.0</td>\n",
       "      <td>amoled display</td>\n",
       "    </tr>\n",
       "    <tr>\n",
       "      <th>2</th>\n",
       "      <td>realme</td>\n",
       "      <td>realme 14 pro plus</td>\n",
       "      <td>27999</td>\n",
       "      <td>8.0</td>\n",
       "      <td>android</td>\n",
       "      <td>128.0</td>\n",
       "      <td>6000</td>\n",
       "      <td>Yes</td>\n",
       "      <td>Yes</td>\n",
       "      <td>No</td>\n",
       "      <td>Yes</td>\n",
       "      <td>snapdragon</td>\n",
       "      <td>8.0</td>\n",
       "      <td>50.0</td>\n",
       "      <td>3</td>\n",
       "      <td>32.0</td>\n",
       "      <td>1</td>\n",
       "      <td>6.83</td>\n",
       "      <td>120.0</td>\n",
       "      <td>oled display</td>\n",
       "    </tr>\n",
       "    <tr>\n",
       "      <th>3</th>\n",
       "      <td>samsung</td>\n",
       "      <td>samsung galaxy s25 ultra</td>\n",
       "      <td>129999</td>\n",
       "      <td>12.0</td>\n",
       "      <td>android</td>\n",
       "      <td>256.0</td>\n",
       "      <td>5000</td>\n",
       "      <td>Yes</td>\n",
       "      <td>Yes</td>\n",
       "      <td>Yes</td>\n",
       "      <td>Yes</td>\n",
       "      <td>snapdragon</td>\n",
       "      <td>8.0</td>\n",
       "      <td>200.0</td>\n",
       "      <td>4</td>\n",
       "      <td>12.0</td>\n",
       "      <td>1</td>\n",
       "      <td>6.90</td>\n",
       "      <td>120.0</td>\n",
       "      <td>amoled display</td>\n",
       "    </tr>\n",
       "    <tr>\n",
       "      <th>4</th>\n",
       "      <td>vivo</td>\n",
       "      <td>vivo t3 pro</td>\n",
       "      <td>22999</td>\n",
       "      <td>8.0</td>\n",
       "      <td>android</td>\n",
       "      <td>128.0</td>\n",
       "      <td>5500</td>\n",
       "      <td>Yes</td>\n",
       "      <td>Yes</td>\n",
       "      <td>No</td>\n",
       "      <td>Yes</td>\n",
       "      <td>snapdragon</td>\n",
       "      <td>8.0</td>\n",
       "      <td>50.0</td>\n",
       "      <td>2</td>\n",
       "      <td>16.0</td>\n",
       "      <td>1</td>\n",
       "      <td>6.77</td>\n",
       "      <td>120.0</td>\n",
       "      <td>amoled display</td>\n",
       "    </tr>\n",
       "  </tbody>\n",
       "</table>\n",
       "</div>"
      ],
      "text/plain": [
       "  brand_name                      Name   Price   RAM       OS  storage  \\\n",
       "0       vivo                  vivo v50   34999   8.0  android    128.0   \n",
       "1     realme             realme p3 pro   21999   8.0  android    128.0   \n",
       "2     realme        realme 14 pro plus   27999   8.0  android    128.0   \n",
       "3    samsung  samsung galaxy s25 ultra  129999  12.0  android    256.0   \n",
       "4       vivo               vivo t3 pro   22999   8.0  android    128.0   \n",
       "\n",
       "   Battery_cap has_fast_charging has_fingerprints has_nfc has_5g  \\\n",
       "0         6000               Yes              Yes      No    Yes   \n",
       "1         6000               Yes              Yes      No    Yes   \n",
       "2         6000               Yes              Yes      No    Yes   \n",
       "3         5000               Yes              Yes     Yes    Yes   \n",
       "4         5500               Yes              Yes      No    Yes   \n",
       "\n",
       "  processor_brand  num_core  primery_rear_camera  Num_Rear_Cameras  \\\n",
       "0      snapdragon       8.0                 50.0                 2   \n",
       "1      snapdragon       8.0                 50.0                 2   \n",
       "2      snapdragon       8.0                 50.0                 3   \n",
       "3      snapdragon       8.0                200.0                 4   \n",
       "4      snapdragon       8.0                 50.0                 2   \n",
       "\n",
       "   primery_front_camera  num_front_camera  display_size(inch)  \\\n",
       "0                  50.0                 1                6.77   \n",
       "1                  16.0                 1                6.83   \n",
       "2                  32.0                 1                6.83   \n",
       "3                  12.0                 1                6.90   \n",
       "4                  16.0                 1                6.77   \n",
       "\n",
       "   refresh_rate(hz)   display_types  \n",
       "0             120.0  amoled display  \n",
       "1             120.0  amoled display  \n",
       "2             120.0    oled display  \n",
       "3             120.0  amoled display  \n",
       "4             120.0  amoled display  "
      ]
     },
     "execution_count": 5,
     "metadata": {},
     "output_type": "execute_result"
    }
   ],
   "source": [
    "df.head()"
   ]
  },
  {
   "cell_type": "code",
   "execution_count": 7,
   "metadata": {},
   "outputs": [
    {
     "data": {
      "text/plain": [
       "brand_name                 0\n",
       "Name                       0\n",
       "Price                      0\n",
       "RAM                        0\n",
       "OS                         0\n",
       "storage                    0\n",
       "Battery_cap                0\n",
       "has_fast_charging          0\n",
       "has_fingerprints         726\n",
       "has_nfc                  726\n",
       "has_5g                   726\n",
       "processor_brand            0\n",
       "num_core                 175\n",
       "primery_rear_camera        0\n",
       "Num_Rear_Cameras           0\n",
       "primery_front_camera       0\n",
       "num_front_camera           0\n",
       "display_size(inch)         0\n",
       "refresh_rate(hz)        1731\n",
       "display_types              0\n",
       "dtype: int64"
      ]
     },
     "execution_count": 7,
     "metadata": {},
     "output_type": "execute_result"
    }
   ],
   "source": [
    "df.isna().sum()"
   ]
  },
  {
   "cell_type": "code",
   "execution_count": 8,
   "metadata": {},
   "outputs": [
    {
     "data": {
      "text/plain": [
       "(3260, 20)"
      ]
     },
     "execution_count": 8,
     "metadata": {},
     "output_type": "execute_result"
    }
   ],
   "source": [
    "df.shape"
   ]
  },
  {
   "cell_type": "code",
   "execution_count": 10,
   "metadata": {},
   "outputs": [
    {
     "data": {
      "text/plain": [
       "<Axes: xlabel='has_fingerprints'>"
      ]
     },
     "execution_count": 10,
     "metadata": {},
     "output_type": "execute_result"
    },
    {
     "data": {
      "image/png": "[encoded data removed]",
      "text/plain": [
       "<Figure size 640x480 with 1 Axes>"
      ]
     },
     "metadata": {},
     "output_type": "display_data"
    }
   ],
   "source": [
    "#here null data are there\n",
    "df['has_fingerprints'].value_counts().plot(kind='bar')"
   ]
  },
  {
   "cell_type": "code",
   "execution_count": 11,
   "metadata": {},
   "outputs": [
    {
     "data": {
      "text/plain": [
       "<Axes: xlabel='has_nfc'>"
      ]
     },
     "execution_count": 11,
     "metadata": {},
     "output_type": "execute_result"
    },
    {
     "data": {
      "image/png": "[encoded data removed]",
      "text/plain": [
       "<Figure size 640x480 with 1 Axes>"
      ]
     },
     "metadata": {},
     "output_type": "display_data"
    }
   ],
   "source": [
    "df['has_nfc'].value_counts().plot(kind='bar')"
   ]
  }
 ],
 "metadata": {
  "kernelspec": {
   "display_name": "Python 3",
   "language": "python",
   "name": "python3"
  },
  "language_info": {
   "codemirror_mode": {
    "name": "ipython",
    "version": 3
   },
   "file_extension": ".py",
   "mimetype": "text/x-python",
   "name": "python",
   "nbconvert_exporter": "python",
   "pygments_lexer": "ipython3",
   "version": "3.13.0"
  }
 },
 "nbformat": 4,
 "nbformat_minor": 2
}
