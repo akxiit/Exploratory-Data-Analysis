{
 "cells": [
  {
   "cell_type": "code",
   "execution_count": 2,
   "metadata": {},
   "outputs": [],
   "source": [
    "import pandas as pd\n",
    "import numpy as np\n",
    "import matplotlib.pyplot as plt\n",
    "import seaborn as sns"
   ]
  },
  {
   "cell_type": "code",
   "execution_count": 3,
   "metadata": {},
   "outputs": [],
   "source": [
    "df = pd.read_csv('smartphones_data.csv')"
   ]
  },
  {
   "cell_type": "code",
   "execution_count": 4,
   "metadata": {},
   "outputs": [
    {
     "data": {
      "text/html": [
       "<div>\n",
       "<style scoped>\n",
       "    .dataframe tbody tr th:only-of-type {\n",
       "        vertical-align: middle;\n",
       "    }\n",
       "\n",
       "    .dataframe tbody tr th {\n",
       "        vertical-align: top;\n",
       "    }\n",
       "\n",
       "    .dataframe thead th {\n",
       "        text-align: right;\n",
       "    }\n",
       "</style>\n",
       "<table border=\"1\" class=\"dataframe\">\n",
       "  <thead>\n",
       "    <tr style=\"text-align: right;\">\n",
       "      <th></th>\n",
       "      <th>brand_name</th>\n",
       "      <th>Name</th>\n",
       "      <th>Price</th>\n",
       "      <th>RAM</th>\n",
       "      <th>OS</th>\n",
       "      <th>storage</th>\n",
       "      <th>Battery_cap</th>\n",
       "      <th>has_fast_charging</th>\n",
       "      <th>has_fingerprints</th>\n",
       "      <th>has_nfc</th>\n",
       "      <th>has_5g</th>\n",
       "      <th>processor_brand</th>\n",
       "      <th>num_core</th>\n",
       "      <th>primery_rear_camera</th>\n",
       "      <th>Num_Rear_Cameras</th>\n",
       "      <th>primery_front_camera</th>\n",
       "      <th>num_front_camera</th>\n",
       "      <th>display_size(inch)</th>\n",
       "      <th>refresh_rate(hz)</th>\n",
       "      <th>display_types</th>\n",
       "    </tr>\n",
       "  </thead>\n",
       "  <tbody>\n",
       "    <tr>\n",
       "      <th>0</th>\n",
       "      <td>vivo</td>\n",
       "      <td>vivo v50</td>\n",
       "      <td>34999</td>\n",
       "      <td>8.0</td>\n",
       "      <td>android</td>\n",
       "      <td>128.0</td>\n",
       "      <td>6000</td>\n",
       "      <td>Yes</td>\n",
       "      <td>Yes</td>\n",
       "      <td>No</td>\n",
       "      <td>Yes</td>\n",
       "      <td>snapdragon</td>\n",
       "      <td>8.0</td>\n",
       "      <td>50.0</td>\n",
       "      <td>2</td>\n",
       "      <td>50.0</td>\n",
       "      <td>1</td>\n",
       "      <td>6.77</td>\n",
       "      <td>120.0</td>\n",
       "      <td>amoled display</td>\n",
       "    </tr>\n",
       "    <tr>\n",
       "      <th>1</th>\n",
       "      <td>realme</td>\n",
       "      <td>realme p3 pro</td>\n",
       "      <td>21999</td>\n",
       "      <td>8.0</td>\n",
       "      <td>android</td>\n",
       "      <td>128.0</td>\n",
       "      <td>6000</td>\n",
       "      <td>Yes</td>\n",
       "      <td>Yes</td>\n",
       "      <td>No</td>\n",
       "      <td>Yes</td>\n",
       "      <td>snapdragon</td>\n",
       "      <td>8.0</td>\n",
       "      <td>50.0</td>\n",
       "      <td>2</td>\n",
       "      <td>16.0</td>\n",
       "      <td>1</td>\n",
       "      <td>6.83</td>\n",
       "      <td>120.0</td>\n",
       "      <td>amoled display</td>\n",
       "    </tr>\n",
       "    <tr>\n",
       "      <th>2</th>\n",
       "      <td>realme</td>\n",
       "      <td>realme 14 pro plus</td>\n",
       "      <td>27999</td>\n",
       "      <td>8.0</td>\n",
       "      <td>android</td>\n",
       "      <td>128.0</td>\n",
       "      <td>6000</td>\n",
       "      <td>Yes</td>\n",
       "      <td>Yes</td>\n",
       "      <td>No</td>\n",
       "      <td>Yes</td>\n",
       "      <td>snapdragon</td>\n",
       "      <td>8.0</td>\n",
       "      <td>50.0</td>\n",
       "      <td>3</td>\n",
       "      <td>32.0</td>\n",
       "      <td>1</td>\n",
       "      <td>6.83</td>\n",
       "      <td>120.0</td>\n",
       "      <td>oled display</td>\n",
       "    </tr>\n",
       "    <tr>\n",
       "      <th>3</th>\n",
       "      <td>samsung</td>\n",
       "      <td>samsung galaxy s25 ultra</td>\n",
       "      <td>129999</td>\n",
       "      <td>12.0</td>\n",
       "      <td>android</td>\n",
       "      <td>256.0</td>\n",
       "      <td>5000</td>\n",
       "      <td>Yes</td>\n",
       "      <td>Yes</td>\n",
       "      <td>Yes</td>\n",
       "      <td>Yes</td>\n",
       "      <td>snapdragon</td>\n",
       "      <td>8.0</td>\n",
       "      <td>200.0</td>\n",
       "      <td>4</td>\n",
       "      <td>12.0</td>\n",
       "      <td>1</td>\n",
       "      <td>6.90</td>\n",
       "      <td>120.0</td>\n",
       "      <td>amoled display</td>\n",
       "    </tr>\n",
       "    <tr>\n",
       "      <th>4</th>\n",
       "      <td>vivo</td>\n",
       "      <td>vivo t3 pro</td>\n",
       "      <td>22999</td>\n",
       "      <td>8.0</td>\n",
       "      <td>android</td>\n",
       "      <td>128.0</td>\n",
       "      <td>5500</td>\n",
       "      <td>Yes</td>\n",
       "      <td>Yes</td>\n",
       "      <td>No</td>\n",
       "      <td>Yes</td>\n",
       "      <td>snapdragon</td>\n",
       "      <td>8.0</td>\n",
       "      <td>50.0</td>\n",
       "      <td>2</td>\n",
       "      <td>16.0</td>\n",
       "      <td>1</td>\n",
       "      <td>6.77</td>\n",
       "      <td>120.0</td>\n",
       "      <td>amoled display</td>\n",
       "    </tr>\n",
       "  </tbody>\n",
       "</table>\n",
       "</div>"
      ],
      "text/plain": [
       "  brand_name                      Name   Price   RAM       OS  storage  \\\n",
       "0       vivo                  vivo v50   34999   8.0  android    128.0   \n",
       "1     realme             realme p3 pro   21999   8.0  android    128.0   \n",
       "2     realme        realme 14 pro plus   27999   8.0  android    128.0   \n",
       "3    samsung  samsung galaxy s25 ultra  129999  12.0  android    256.0   \n",
       "4       vivo               vivo t3 pro   22999   8.0  android    128.0   \n",
       "\n",
       "   Battery_cap has_fast_charging has_fingerprints has_nfc has_5g  \\\n",
       "0         6000               Yes              Yes      No    Yes   \n",
       "1         6000               Yes              Yes      No    Yes   \n",
       "2         6000               Yes              Yes      No    Yes   \n",
       "3         5000               Yes              Yes     Yes    Yes   \n",
       "4         5500               Yes              Yes      No    Yes   \n",
       "\n",
       "  processor_brand  num_core  primery_rear_camera  Num_Rear_Cameras  \\\n",
       "0      snapdragon       8.0                 50.0                 2   \n",
       "1      snapdragon       8.0                 50.0                 2   \n",
       "2      snapdragon       8.0                 50.0                 3   \n",
       "3      snapdragon       8.0                200.0                 4   \n",
       "4      snapdragon       8.0                 50.0                 2   \n",
       "\n",
       "   primery_front_camera  num_front_camera  display_size(inch)  \\\n",
       "0                  50.0                 1                6.77   \n",
       "1                  16.0                 1                6.83   \n",
       "2                  32.0                 1                6.83   \n",
       "3                  12.0                 1                6.90   \n",
       "4                  16.0                 1                6.77   \n",
       "\n",
       "   refresh_rate(hz)   display_types  \n",
       "0             120.0  amoled display  \n",
       "1             120.0  amoled display  \n",
       "2             120.0    oled display  \n",
       "3             120.0  amoled display  \n",
       "4             120.0  amoled display  "
      ]
     },
     "execution_count": 4,
     "metadata": {},
     "output_type": "execute_result"
    }
   ],
   "source": [
    "df.head()"
   ]
  },
  {
   "cell_type": "code",
   "execution_count": 5,
   "metadata": {},
   "outputs": [
    {
     "data": {
      "text/plain": [
       "brand_name                 0\n",
       "Name                       0\n",
       "Price                      0\n",
       "RAM                        0\n",
       "OS                         0\n",
       "storage                    0\n",
       "Battery_cap                0\n",
       "has_fast_charging          0\n",
       "has_fingerprints         726\n",
       "has_nfc                  726\n",
       "has_5g                   726\n",
       "processor_brand            0\n",
       "num_core                 175\n",
       "primery_rear_camera        0\n",
       "Num_Rear_Cameras           0\n",
       "primery_front_camera       0\n",
       "num_front_camera           0\n",
       "display_size(inch)         0\n",
       "refresh_rate(hz)        1731\n",
       "display_types              0\n",
       "dtype: int64"
      ]
     },
     "execution_count": 5,
     "metadata": {},
     "output_type": "execute_result"
    }
   ],
   "source": [
    "df.isna().sum()"
   ]
  },
  {
   "cell_type": "code",
   "execution_count": 6,
   "metadata": {},
   "outputs": [
    {
     "data": {
      "text/plain": [
       "(3260, 20)"
      ]
     },
     "execution_count": 6,
     "metadata": {},
     "output_type": "execute_result"
    }
   ],
   "source": [
    "df.shape"
   ]
  },
  {
   "cell_type": "code",
   "execution_count": 7,
   "metadata": {},
   "outputs": [
    {
     "data": {
      "text/plain": [
       "<Axes: xlabel='has_fingerprints'>"
      ]
     },
     "execution_count": 7,
     "metadata": {},
     "output_type": "execute_result"
    },
    {
     "data": {
      "image/png": "[encoded data removed]",
      "text/plain": [
       "<Figure size 640x480 with 1 Axes>"
      ]
     },
     "metadata": {},
     "output_type": "display_data"
    }
   ],
   "source": [
    "#here null data are there\n",
    "df['has_fingerprints'].value_counts().plot(kind='bar')"
   ]
  },
  {
   "cell_type": "code",
   "execution_count": 8,
   "metadata": {},
   "outputs": [
    {
     "name": "stderr",
     "output_type": "stream",
     "text": [
      "D:\\Temp\\ipykernel_16668\\173241134.py:1: FutureWarning: A value is trying to be set on a copy of a DataFrame or Series through chained assignment using an inplace method.\n",
      "The behavior will change in pandas 3.0. This inplace method will never work because the intermediate object on which we are setting values always behaves as a copy.\n",
      "\n",
      "For example, when doing 'df[col].method(value, inplace=True)', try using 'df.method({col: value}, inplace=True)' or df[col] = df[col].method(value) instead, to perform the operation inplace on the original object.\n",
      "\n",
      "\n",
      "  df['has_fingerprints'].fillna(df['has_fingerprints'].mode()[0], inplace=True)\n"
     ]
    }
   ],
   "source": [
    "df['has_fingerprints'].fillna(df['has_fingerprints'].mode()[0], inplace=True)"
   ]
  },
  {
   "cell_type": "code",
   "execution_count": 9,
   "metadata": {},
   "outputs": [
    {
     "data": {
      "text/plain": [
       "<Axes: xlabel='has_nfc'>"
      ]
     },
     "execution_count": 9,
     "metadata": {},
     "output_type": "execute_result"
    },
    {
     "data": {
      "image/png": "[encoded data removed]",
      "text/plain": [
       "<Figure size 640x480 with 1 Axes>"
      ]
     },
     "metadata": {},
     "output_type": "display_data"
    }
   ],
   "source": [
    "df['has_nfc'].value_counts().plot(kind='bar')"
   ]
  },
  {
   "cell_type": "code",
   "execution_count": 10,
   "metadata": {},
   "outputs": [
    {
     "name": "stderr",
     "output_type": "stream",
     "text": [
      "D:\\Temp\\ipykernel_16668\\3622819318.py:1: FutureWarning: ChainedAssignmentError: behaviour will change in pandas 3.0!\n",
      "You are setting values through chained assignment. Currently this works in certain cases, but when using Copy-on-Write (which will become the default behaviour in pandas 3.0) this will never work to update the original DataFrame or Series, because the intermediate object on which we are setting values will behave as a copy.\n",
      "A typical example is when you are setting values in a column of a DataFrame, like:\n",
      "\n",
      "df[\"col\"][row_indexer] = value\n",
      "\n",
      "Use `df.loc[row_indexer, \"col\"] = values` instead, to perform the assignment in a single step and ensure this keeps updating the original `df`.\n",
      "\n",
      "See the caveats in the documentation: https://pandas.pydata.org/pandas-docs/stable/user_guide/indexing.html#returning-a-view-versus-a-copy\n",
      "\n",
      "  df['has_nfc'][df['has_nfc'].isna()] = df['has_nfc'].dropna().sample(df['has_nfc'].isna().sum()).values\n",
      "D:\\Temp\\ipykernel_16668\\3622819318.py:1: SettingWithCopyWarning: \n",
      "A value is trying to be set on a copy of a slice from a DataFrame\n",
      "\n",
      "See the caveats in the documentation: https://pandas.pydata.org/pandas-docs/stable/user_guide/indexing.html#returning-a-view-versus-a-copy\n",
      "  df['has_nfc'][df['has_nfc'].isna()] = df['has_nfc'].dropna().sample(df['has_nfc'].isna().sum()).values\n"
     ]
    }
   ],
   "source": [
    "df['has_nfc'][df['has_nfc'].isna()] = df['has_nfc'].dropna().sample(df['has_nfc'].isna().sum()).values"
   ]
  },
  {
   "cell_type": "code",
   "execution_count": 11,
   "metadata": {},
   "outputs": [
    {
     "data": {
      "text/plain": [
       "<Axes: xlabel='has_5g'>"
      ]
     },
     "execution_count": 11,
     "metadata": {},
     "output_type": "execute_result"
    },
    {
     "data": {
      "image/png": "[encoded data removed]",
      "text/plain": [
       "<Figure size 640x480 with 1 Axes>"
      ]
     },
     "metadata": {},
     "output_type": "display_data"
    }
   ],
   "source": [
    "df['has_5g'].value_counts().plot(kind='bar')"
   ]
  },
  {
   "cell_type": "code",
   "execution_count": 12,
   "metadata": {},
   "outputs": [
    {
     "name": "stderr",
     "output_type": "stream",
     "text": [
      "D:\\Temp\\ipykernel_16668\\2710200024.py:1: FutureWarning: ChainedAssignmentError: behaviour will change in pandas 3.0!\n",
      "You are setting values through chained assignment. Currently this works in certain cases, but when using Copy-on-Write (which will become the default behaviour in pandas 3.0) this will never work to update the original DataFrame or Series, because the intermediate object on which we are setting values will behave as a copy.\n",
      "A typical example is when you are setting values in a column of a DataFrame, like:\n",
      "\n",
      "df[\"col\"][row_indexer] = value\n",
      "\n",
      "Use `df.loc[row_indexer, \"col\"] = values` instead, to perform the assignment in a single step and ensure this keeps updating the original `df`.\n",
      "\n",
      "See the caveats in the documentation: https://pandas.pydata.org/pandas-docs/stable/user_guide/indexing.html#returning-a-view-versus-a-copy\n",
      "\n",
      "  df['has_5g'][df['has_5g'].isna()] = df['has_5g'].dropna().sample(df['has_5g'].isna().sum()).values\n",
      "D:\\Temp\\ipykernel_16668\\2710200024.py:1: SettingWithCopyWarning: \n",
      "A value is trying to be set on a copy of a slice from a DataFrame\n",
      "\n",
      "See the caveats in the documentation: https://pandas.pydata.org/pandas-docs/stable/user_guide/indexing.html#returning-a-view-versus-a-copy\n",
      "  df['has_5g'][df['has_5g'].isna()] = df['has_5g'].dropna().sample(df['has_5g'].isna().sum()).values\n"
     ]
    }
   ],
   "source": [
    "df['has_5g'][df['has_5g'].isna()] = df['has_5g'].dropna().sample(df['has_5g'].isna().sum()).values"
   ]
  },
  {
   "cell_type": "code",
   "execution_count": 13,
   "metadata": {},
   "outputs": [
    {
     "data": {
      "text/plain": [
       "<Axes: xlabel='num_core', ylabel='Count'>"
      ]
     },
     "execution_count": 13,
     "metadata": {},
     "output_type": "execute_result"
    },
    {
     "data": {
      "image/png": "[encoded data removed]",
      "text/plain": [
       "<Figure size 640x480 with 1 Axes>"
      ]
     },
     "metadata": {},
     "output_type": "display_data"
    }
   ],
   "source": [
    "sns.histplot(df['num_core'])"
   ]
  },
  {
   "cell_type": "code",
   "execution_count": 14,
   "metadata": {},
   "outputs": [
    {
     "name": "stderr",
     "output_type": "stream",
     "text": [
      "D:\\Temp\\ipykernel_16668\\382060503.py:1: FutureWarning: ChainedAssignmentError: behaviour will change in pandas 3.0!\n",
      "You are setting values through chained assignment. Currently this works in certain cases, but when using Copy-on-Write (which will become the default behaviour in pandas 3.0) this will never work to update the original DataFrame or Series, because the intermediate object on which we are setting values will behave as a copy.\n",
      "A typical example is when you are setting values in a column of a DataFrame, like:\n",
      "\n",
      "df[\"col\"][row_indexer] = value\n",
      "\n",
      "Use `df.loc[row_indexer, \"col\"] = values` instead, to perform the assignment in a single step and ensure this keeps updating the original `df`.\n",
      "\n",
      "See the caveats in the documentation: https://pandas.pydata.org/pandas-docs/stable/user_guide/indexing.html#returning-a-view-versus-a-copy\n",
      "\n",
      "  df['num_core'][df['num_core'].isna()] = df['num_core'].dropna().sample(df['num_core'].isna().sum()).values\n",
      "D:\\Temp\\ipykernel_16668\\382060503.py:1: SettingWithCopyWarning: \n",
      "A value is trying to be set on a copy of a slice from a DataFrame\n",
      "\n",
      "See the caveats in the documentation: https://pandas.pydata.org/pandas-docs/stable/user_guide/indexing.html#returning-a-view-versus-a-copy\n",
      "  df['num_core'][df['num_core'].isna()] = df['num_core'].dropna().sample(df['num_core'].isna().sum()).values\n"
     ]
    }
   ],
   "source": [
    "df['num_core'][df['num_core'].isna()] = df['num_core'].dropna().sample(df['num_core'].isna().sum()).values"
   ]
  },
  {
   "cell_type": "code",
   "execution_count": 22,
   "metadata": {},
   "outputs": [
    {
     "name": "stdout",
     "output_type": "stream",
     "text": [
      "<class 'pandas.core.frame.DataFrame'>\n",
      "RangeIndex: 3260 entries, 0 to 3259\n",
      "Data columns (total 19 columns):\n",
      " #   Column                Non-Null Count  Dtype  \n",
      "---  ------                --------------  -----  \n",
      " 0   brand_name            3260 non-null   object \n",
      " 1   Name                  3260 non-null   object \n",
      " 2   Price                 3260 non-null   int64  \n",
      " 3   RAM                   3260 non-null   float64\n",
      " 4   OS                    3260 non-null   object \n",
      " 5   storage               3260 non-null   float64\n",
      " 6   Battery_cap           3260 non-null   int64  \n",
      " 7   has_fast_charging     3260 non-null   object \n",
      " 8   has_fingerprints      3260 non-null   object \n",
      " 9   has_nfc               3260 non-null   object \n",
      " 10  has_5g                3260 non-null   object \n",
      " 11  processor_brand       3260 non-null   object \n",
      " 12  num_core              3260 non-null   float64\n",
      " 13  primery_rear_camera   3260 non-null   float64\n",
      " 14  Num_Rear_Cameras      3260 non-null   int64  \n",
      " 15  primery_front_camera  3260 non-null   float64\n",
      " 16  num_front_camera      3260 non-null   int64  \n",
      " 17  display_size(inch)    3260 non-null   float64\n",
      " 18  display_types         3260 non-null   object \n",
      "dtypes: float64(6), int64(4), object(9)\n",
      "memory usage: 484.0+ KB\n"
     ]
    }
   ],
   "source": [
    "df.info()"
   ]
  },
  {
   "cell_type": "code",
   "execution_count": null,
   "metadata": {},
   "outputs": [],
   "source": []
  }
 ],
 "metadata": {
  "kernelspec": {
   "display_name": "Python 3",
   "language": "python",
   "name": "python3"
  },
  "language_info": {
   "codemirror_mode": {
    "name": "ipython",
    "version": 3
   },
   "file_extension": ".py",
   "mimetype": "text/x-python",
   "name": "python",
   "nbconvert_exporter": "python",
   "pygments_lexer": "ipython3",
   "version": "3.13.0"
  }
 },
 "nbformat": 4,
 "nbformat_minor": 2
}
